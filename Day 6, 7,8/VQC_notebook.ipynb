{
 "cells": [
  {
   "cell_type": "markdown",
   "metadata": {},
   "source": [
    "<img src=\"https://s3-ap-southeast-1.amazonaws.com/he-public-data/wordmark_black65ee464.png\" width=\"700\">"
   ]
  },
  {
   "cell_type": "markdown",
   "metadata": {},
   "source": [
    "# Variational Quantum Classifier"
   ]
  },
  {
   "cell_type": "markdown",
   "metadata": {},
   "source": [
    "## Contents\n",
    "\n",
    "1. [Introduction](#intro)    \n",
    "    1.1  [Data Pre-Processing](#pre-process)\n",
    "2. [Classification on a Quantum Computer](#vqc)    \n",
    "    2.1 [Loading Data onto the Quantum Computer](#feature-maps)    \n",
    "    2.2 [Building the Circuit that Classifies](#var-forms)      \n",
    "    2.3 [Measurement and Assigning a Binary Label](#validate)      \n",
    "    2.4 [Classical optimization loop](#classical-optimization)    \n",
    "3. [Classifying Digits 0 and 1](#full)\n"
   ]
  },
  {
   "cell_type": "markdown",
   "metadata": {},
   "source": [
    "## 1. Introduction <a id=\"intro\"></a>"
   ]
  },
  {
   "cell_type": "markdown",
   "metadata": {},
   "source": [
    "### 1.1 Data Pre-Processing <a id=\"pre-process\"></a>"
   ]
  },
  {
   "cell_type": "markdown",
   "metadata": {},
   "source": [
    "Similar to classical machine learning we employ various pre-processing techniques on the classical dataset before its fed into the quantum computer. This helps us work with larger and more complex datasets with the quantum computers we have today. The dataset we're going to work with today will be a subset of the popular handwritten digits dataset, the **[MNIST](http://yann.lecun.com/exdb/mnist/) dataset**. You can read more about it on the wikipedia page [here](https://en.wikipedia.org/wiki/MNIST_database)."
   ]
  },
  {
   "cell_type": "code",
   "execution_count": 2,
   "metadata": {},
   "outputs": [],
   "source": [
    "# installing a few dependencies\n",
    "!pip install --upgrade seaborn==0.10.1\n",
    "!pip install --upgrade scikit-learn==0.23.1\n",
    "!pip install --upgrade matplotlib==3.2.0\n",
    "!pip install --upgrade pandas==1.0.4\n",
    "!pip install --upgrade qiskit==0.19.6 \n",
    "\n",
    "# the output will be cleared after installation\n",
    "from IPython.display import clear_output\n",
    "clear_output()"
   ]
  },
  {
   "cell_type": "markdown",
   "metadata": {},
   "source": [
    "Lets start by importing the dataset which you can download [here](http://yann.lecun.com/exdb/mnist/) or use the one present in the directory in a .csv file format.\n",
    "\n",
    "**IMPORTANT:**\n",
    "* If you are using this notebook by cloning the repo Qiskit-Challenge-India/2020 you will have to first **unzip the dataset `mnist_train.csv.zip` to `mnist_train.csv`** before you can run the code below."
   ]
  },
  {
   "cell_type": "code",
   "execution_count": 3,
   "metadata": {},
   "outputs": [],
   "source": [
    "# importing some useful modules\n",
    "import numpy as np\n",
    "%matplotlib inline\n",
    "import matplotlib.pyplot as plt\n",
    "\n",
    "image_size = 28 # width and length are equal\n",
    "\n",
    "# Working directory:\n",
    "\n",
    "#- VQC_notebook.ipynb\n",
    "#- dataset\n",
    "#----mnist_train.csv\n",
    "#----mnist_test.csv\n",
    "\n",
    "# In case our working directory is not in the same configuration as given above, change the data_path variable to point to the dataset\n",
    "data_path = \"./dataset/\"\n",
    "train_data = np.loadtxt(data_path + \"mnist_train.csv\", delimiter=\",\")\n",
    "test_data = np.loadtxt(data_path + \"mnist_test.csv\", delimiter=\",\") "
   ]
  },
  {
   "cell_type": "code",
   "execution_count": 4,
   "metadata": {
    "scrolled": true
   },
   "outputs": [
    {
     "name": "stdout",
     "output_type": "stream",
     "text": [
      "Number of training datapoints: 60000\n",
      "Number of testing datapoints: 10000\n"
     ]
    }
   ],
   "source": [
    "print(\"Number of training datapoints: {}\".format(train_data.shape[0]))\n",
    "print(\"Number of testing datapoints: {}\".format(test_data.shape[0]))"
   ]
  },
  {
   "cell_type": "markdown",
   "metadata": {},
   "source": [
    "Before we move forward lets take a closer look at the structure of the training dataset:\n",
    "\n",
    "* There are a total of **60,000 datapoints** (rows in train_data) corresponding to digits ranging from `0` to `9`\n",
    "* The first column has the **label** of the datapoint ranging from `0` to `9`\n",
    "* The next 784 columns/features are each a 28 $\\times$ 28 grayscale image collapsed into a row. Therefore, the **dimension of the data is 784**. Each of these values range from 0 to 275 where **0 corresponds to white** and **255 corresponds to black**\n",
    "\n",
    "The testing dataset is also of the same format with just lesser datapoints. \n",
    "\n",
    "Here's an example of a datapoint with label `0`. "
   ]
  },
  {
   "cell_type": "code",
   "execution_count": 5,
   "metadata": {},
   "outputs": [
    {
     "data": {
      "image/png": "[encoded data removed]",
      "text/plain": [
       "<Figure size 432x288 with 1 Axes>"
      ]
     },
     "metadata": {
      "needs_background": "light"
     },
     "output_type": "display_data"
    }
   ],
   "source": [
    "img = train_data[:, 1:][1].reshape((image_size, image_size))\n",
    "plt.imshow(img, cmap=\"Greys\")\n",
    "plt.show()"
   ]
  },
  {
   "cell_type": "markdown",
   "metadata": {},
   "source": [
    "As we will learn in the next section, dimension of the data is equal to the number of qubits we require to encode the data for the quantum feature maps we will use. As quantum computers or simulators today generally cannot work with large number of qubits, encoding data with dimension 784 is not possible. Hence, we resort to **classical dimensionality reduction techniques**. Precisely, we apply *truncated Singular Value Decomposition (SVD)* and *t-distributed stochastic neighbor embedding (t-SNE)* methods which are dimension reduction techniques to reduce the dimension down to 2 for the sake of this example. Knowledge of SVD and t-SNE is not required going forward and these dimensionality reduction methods are given only for your reference. The choice of these specific dimensionality reduction techniques has been adapted from [this](http://www.cse.chalmers.se/~richajo/dit866/lectures/l9/MNIST%20dimensionality%20reduction.html) resource and tweaking it for our specific problem. If you'd like to learn more about dimensionality reduction for the MNIST dataset you can read [Colah's blog](https://colah.github.io/posts/2014-10-Visualizing-MNIST/).\n",
    "\n",
    "As the number of training and testing samples we require will be very less, we only work with the training dataset going forward and extract training, testing and validation datasets from it when required. As we don't need a lot of training datapoints and t-SNE is computationally expensive we will only apply t-SNE on the first 10,000 datapoints. Note that as we develop larger quantum hardware in the future, the need for expensive classical pre-processing steps will be reduced."
   ]
  },
  {
   "cell_type": "code",
   "execution_count": 6,
   "metadata": {},
   "outputs": [],
   "source": [
    "# Extracting the features and labels from the dataset and shortening the dataset to 10,000 datapoints\n",
    "train_data_features = train_data[:10000, 1:]\n",
    "train_data_labels = train_data[:10000, :1].reshape(10000,)"
   ]
  },
  {
   "cell_type": "code",
   "execution_count": 7,
   "metadata": {},
   "outputs": [],
   "source": [
    "from sklearn.decomposition import TruncatedSVD\n",
    "from sklearn.manifold import TSNE\n",
    "\n",
    "# Using SVD to bring down the dimension to 10\n",
    "tsvd = TruncatedSVD(n_components=10)\n",
    "X_SVD = tsvd.fit_transform(train_data_features)\n",
    "\n",
    "# Further using t-SNE to bring the dimension down to 2\n",
    "np.random.seed(0)\n",
    "tsne = TSNE(n_components=2)\n",
    "train_data_features_reduced = tsne.fit_transform(X_SVD)"
   ]
  },
  {
   "cell_type": "code",
   "execution_count": 8,
   "metadata": {},
   "outputs": [
    {
     "name": "stdout",
     "output_type": "stream",
     "text": [
      "Dimension of the reduced dataset: 2\n"
     ]
    }
   ],
   "source": [
    "print(\"Dimension of the reduced dataset: {}\".format(train_data_features_reduced.shape[1]))"
   ]
  },
  {
   "cell_type": "markdown",
   "metadata": {},
   "source": [
    "Lets plot out the dataset to see if the labels are interpretable, i.e show some sort of clustering in the reduced dataset. For this we are creating a pandas dataframe and using seaborn to plot the data. "
   ]
  },
  {
   "cell_type": "code",
   "execution_count": 9,
   "metadata": {},
   "outputs": [],
   "source": [
    "import seaborn as sns\n",
    "import pandas as pd\n",
    "\n",
    "# function to help plot the 2-D dataset\n",
    "def plot2d(X, Y, c1, c2, N):\n",
    "    lbl1 = f'Component {c1}'\n",
    "    lbl2 = f'Component {c2}'    \n",
    "    df = pd.DataFrame({lbl1:X[:N,c1], lbl2:X[:N,c2], 'label':Y[:N]})\n",
    "    sns.lmplot(data=df, x=lbl1, y=lbl2, fit_reg=False, hue='label', scatter_kws={'alpha':0.5})   "
   ]
  },
  {
   "cell_type": "code",
   "execution_count": 10,
   "metadata": {},
   "outputs": [
    {
     "data": {
      "image/png": "[encoded data removed]",
      "text/plain": [
       "<Figure size 412x360 with 1 Axes>"
      ]
     },
     "metadata": {
      "needs_background": "light"
     },
     "output_type": "display_data"
    }
   ],
   "source": [
    "plot2d(train_data_features_reduced, train_data_labels, 0, 1, N=2000)"
   ]
  },
  {
   "cell_type": "markdown",
   "metadata": {},
   "source": [
    "As we can see, datapoints corresponding to labels such as `0` and `1` are well separated, however, ambiguous datapoints such as those corresponding to `4` and `9` are overlapping. This makes sense as even when observed by a naked eye `0` and `1` are easily distinguishable however `4` and `9` may not always be as they both have a vertical line towards the bottom and a loop-like structure on top. \n",
    "\n",
    "Though there are methods to convert SVMs into multiclass classifiers they are inherently binary classifiers. Thus, we will start by extracting datapoints corresponsing to the digits `0` and `1` from the reduced dataset and normalize their features to be between 0 and 2. Normalization is done as the values will be inserted into the quantum feature map as angles in radians. You can try different normalizations and see how it changes our output, however, during the final challenge a pre-normalised dataset will be provided to you.  "
   ]
  },
  {
   "cell_type": "code",
   "execution_count": 11,
   "metadata": {},
   "outputs": [],
   "source": [
    "zero_datapoints = []\n",
    "one_datapoints = []\n",
    "for i in range(10000):\n",
    "    if train_data_labels[i] == 0:                   # extracting zeros\n",
    "        zero_datapoints.append(train_data_features_reduced[i])\n",
    "\n",
    "for i in range(10000):\n",
    "    if train_data_labels[i] == 1:                   # extracting ones\n",
    "        one_datapoints.append(train_data_features_reduced[i])\n",
    "        \n",
    "zero_datapoints = np.array(zero_datapoints)\n",
    "one_datapoints = np.array(one_datapoints)\n",
    "\n",
    "def normalize(arr, max_val, n):\n",
    "    a = np.divide(arr, max_val)\n",
    "    return a + n\n",
    "\n",
    "zero_datapoints_normalized = normalize(zero_datapoints, 100, 1)\n",
    "one_datapoints_normalized = normalize(one_datapoints, 100, 1)"
   ]
  },
  {
   "cell_type": "markdown",
   "metadata": {},
   "source": [
    "## 2. Classification on a Quantum Computer <a id=\"vqc\"></a>\n",
    "\n",
    "There are multiple methods for classifying a dataset using a quantum computer, however, today we will concentrate on a method called the **Variational Quantum Classifier (VQC)** as proposed in the paper [Havlicek et.al](https://arxiv.org/abs/1804.11326) [1]. The paper also proposes another method called the the **Kernel Estimation Method** which may be interesting for those curious. \n",
    "\n",
    "Similar to classical machine learning the VQC algorithm has a **training stage** (where datapoints with labels are provided and learning takes place) and a **testing stage** (where new datapoints without labels are provided which are then classified). Each of these stages in VQC are a four step process: \n",
    "\n",
    "* **Loading Data onto the Quantum Computer** (Apply Feature Map)\n",
    "* **Building the Circuit that Classifies** (Variational Circuit) \n",
    "* **Measurement and Assigning a Binary Label**\n",
    "* **Classical Optimization Loop**\n",
    "\n",
    "![vqc](./images/vqc.png)"
   ]
  },
  {
   "cell_type": "markdown",
   "metadata": {},
   "source": [
    "Through the course of this notebook we will look at each of these steps and gain an understanding on how the VQC algorithm works using the inbuilt `VQC` algorithm in Qiskit Aqua. Further, we will look at how we can use the `VQC` class in Qiskit Aqua to classify `0`'s and `1`'s along with customization of the algorithm to your needs. "
   ]
  },
  {
   "cell_type": "markdown",
   "metadata": {},
   "source": [
    "### 2.1 Loading Data onto the Quantum Computer <a id=\"feature-maps\"></a>\n",
    "\n",
    "Check out the qiskit-community tutorial on custom feature maps [here](https://github.com/qiskit-community/qiskit-community-tutorials/blob/master/machine_learning/custom_feature_map.ipynb) from which this section has been adapted. It has a few extra details on how to configure a custom `data map function` $\\phi_S$ which might be interesting when working with the inbuilt **quantum feature maps** (or Data Encoding Circuits) in Qiskit. \n",
    "\n",
    "The idea of quantum feature maps comes from the theory of kernels in classical machine learning where a dataset is mapped non-linearly onto a higher dimensional space where a hyperplane can be found that classifies it. \n",
    "\n",
    "As the name suggests, a **quantum feature map $\\phi(\\vec{x})$** is a map from the classical feature vector $\\vec{x}$ to the quantum state $|\\Phi(\\vec{x})\\rangle\\langle\\Phi(\\vec{x})|$, a vector in Hilbert space. This is faciliated by applying the unitary operation $\\mathcal{U}_{\\Phi(\\vec{x})}$ on the initial state $|0\\rangle^{n}$ where _n_ is the number of qubits being used for encoding. By doing this process we have now blown up the dimension of our feature space and the task of our classifier is to find a separating hyperlane in this new space.\n",
    "\n",
    "Constructing feature maps based on quantum circuits that are hard to simulate classically is an important step towards obtaining a quantum advantage over classical approaches. The authors of [[1]](https://arxiv.org/abs/1804.11326) proposed a family of feature maps that is conjectured (recently proved by another group) to be hard to simulate classically and that can be implemented as short-depth circuits on near-term quantum devices. The quantum feature map of depth $d$ is implemented by the unitary operator \n",
    "\n",
    "$$ \\mathcal{U}_{\\Phi(\\mathbf{x})}=\\prod_d U_{\\Phi(\\mathbf{x})}H^{\\otimes n},\\ U_{\\Phi(\\mathbf{x})}=\\exp\\left(i\\sum_{S\\subseteq[n]}\\phi_S(\\mathbf{x})\\prod_{k\\in S} P_k\\right) $$\n",
    "\n",
    "which contains layers of Hadamard gates interleaved with entangling blocks encoding the classical data as shown in circuit diagram below for $d=2$.\n",
    "\n",
    "<img src=\"./images/uphi.PNG\" width=\"400\" />\n",
    "\n",
    "The number of qubits $n$ in the quantum circuit is equal to the dimensionality of the classical data $\\mathbf{x}$ in these feature encodings, which are encoded through the coefficients $\\phi_S(\\mathbf{x})$, where $S \\subseteq[n] = \\{1, \\ldots, n \\}$. We call the $r$-th order expansion the feature map of this circuit family when $|S|\\leq r$. In Terra, the default is the second order expansion $|S|\\leq 2$ used in [[1]](https://arxiv.org/abs/1804.11326), which gives $n$ singeltons $S=\\{i\\}$ and, depending on the connectivity graph of the quantum device, up to $\\frac{n(n-1)}{2}$ couples to encode entangling interactions. The greater the upper bound $r$, the more interactions will be taken into account.\n",
    "\n",
    "Only contributions from $Z$ and $ZZ$ gates in the entangling blocks are considered in [[1]](https://arxiv.org/abs/1804.11326). In general, the blocks can be expressed in terms of the Pauli gates $P_k \\in \\{\\mathbb{1}_k, X_k, Y_k, Z_k \\}$.\n",
    "\n",
    "In the Terra circuit library, the circuit depth $d$, coefficients $\\phi_S$, entanglement, and gates $P_k$ are mutable for Variational Quantum Classifier. As discussed in [[1]](https://arxiv.org/abs/1804.11326), the depth $d=1$ circuit can be efficiently simulated classically by uniform sampling, while the $d=2$ variant is conjectured to be hard to simulate classically."
   ]
  },
  {
   "cell_type": "markdown",
   "metadata": {},
   "source": [
    "### Using Feature Maps from the Terra Circuit Library\n",
    "\n",
    "We will now learn how to configure inbuilt quantum feature maps in Qiskit Terra by modifing the `circuit depth` $d$, `entanglement`, and gates $P_k$. Documentation on the quantum feature maps in Terra can be found in the [Circuit Library](https://qiskit.org/documentation/apidoc/circuit_library.html) under the \"Data Encoding Circuits\" section. \n",
    "\n",
    "We'll see how to build quantum feature maps inbuilt in Qiskit and a method to build your own custom feature map. A feature map is essentially a variational circuit and Qiskit Terra's circuit library has numerous variational circuits one could use for building their quantum feature map. However, the circuits specific to the data preparation step used in the paper [[1]](https://arxiv.org/abs/1804.11326) are : \n",
    "\n",
    "* ZFeatureMap\n",
    "* ZZFeatureMap\n",
    "* PauliFeatureMap\n",
    "\n",
    "These are also the feature maps that are available in Qiskit. Lets start by importing what is required."
   ]
  },
  {
   "cell_type": "code",
   "execution_count": 12,
   "metadata": {},
   "outputs": [],
   "source": [
    "from qiskit import *\n",
    "import numpy as np\n",
    "\n",
    "import time\n",
    "from qiskit.circuit.library import ZZFeatureMap, ZFeatureMap, PauliFeatureMap\n",
    "from qiskit.aqua.utils import split_dataset_to_data_and_labels, map_label_to_class_name\n",
    "from qiskit.aqua import QuantumInstance\n",
    "from qiskit.aqua.algorithms import VQC"
   ]
  },
  {
   "cell_type": "markdown",
   "metadata": {},
   "source": [
    "### ZFeatureMap"
   ]
  },
  {
   "cell_type": "markdown",
   "metadata": {},
   "source": [
    "A first order diagonal expansion is implemented using the `ZFeatureMap` feature map where $|S|=1$. The resulting circuit contains no interactions between features of the encoded data, and therefore no entanglement. The feature map can take the following inputs:\n",
    "\n",
    "- `feature_dimension`: dimensionality of the classical data (equal to the number of required qubits)\n",
    "- `reps`: number of times $d$ the feature map circuit is repeated\n",
    "- `data_map_func`: function $\\phi_S(\\mathbf{x})$ encoding the classical data.\n",
    "\n",
    "The default setting `data_map_func = self_product()` for the `ZFeatureMap` has $S = \\{i\\}$ and is given by \n",
    "\n",
    "$$\\phi_S:x\\mapsto x_i.$$"
   ]
  },
  {
   "cell_type": "code",
   "execution_count": 13,
   "metadata": {},
   "outputs": [
    {
     "data": {
      "text/html": [
       "<pre style=\"word-wrap: normal;white-space: pre;background: #fff0;line-height: 1.1;font-family: &quot;Courier New&quot;,Courier,monospace\">     ┌───┐┌──────────────┐┌───┐┌──────────────┐┌───┐┌──────────────┐┌───┐»\n",
       "q_0: ┤ H ├┤ U1(2.0*x[0]) ├┤ H ├┤ U1(2.0*x[0]) ├┤ H ├┤ U1(2.0*x[0]) ├┤ H ├»\n",
       "     ├───┤├──────────────┤├───┤├──────────────┤├───┤├──────────────┤├───┤»\n",
       "q_1: ┤ H ├┤ U1(2.0*x[1]) ├┤ H ├┤ U1(2.0*x[1]) ├┤ H ├┤ U1(2.0*x[1]) ├┤ H ├»\n",
       "     ├───┤├──────────────┤├───┤├──────────────┤├───┤├──────────────┤├───┤»\n",
       "q_2: ┤ H ├┤ U1(2.0*x[2]) ├┤ H ├┤ U1(2.0*x[2]) ├┤ H ├┤ U1(2.0*x[2]) ├┤ H ├»\n",
       "     └───┘└──────────────┘└───┘└──────────────┘└───┘└──────────────┘└───┘»\n",
       "«     ┌──────────────┐\n",
       "«q_0: ┤ U1(2.0*x[0]) ├\n",
       "«     ├──────────────┤\n",
       "«q_1: ┤ U1(2.0*x[1]) ├\n",
       "«     ├──────────────┤\n",
       "«q_2: ┤ U1(2.0*x[2]) ├\n",
       "«     └──────────────┘</pre>"
      ],
      "text/plain": [
       "     ┌───┐┌──────────────┐┌───┐┌──────────────┐┌───┐┌──────────────┐┌───┐»\n",
       "q_0: ┤ H ├┤ U1(2.0*x[0]) ├┤ H ├┤ U1(2.0*x[0]) ├┤ H ├┤ U1(2.0*x[0]) ├┤ H ├»\n",
       "     ├───┤├──────────────┤├───┤├──────────────┤├───┤├──────────────┤├───┤»\n",
       "q_1: ┤ H ├┤ U1(2.0*x[1]) ├┤ H ├┤ U1(2.0*x[1]) ├┤ H ├┤ U1(2.0*x[1]) ├┤ H ├»\n",
       "     ├───┤├──────────────┤├───┤├──────────────┤├───┤├──────────────┤├───┤»\n",
       "q_2: ┤ H ├┤ U1(2.0*x[2]) ├┤ H ├┤ U1(2.0*x[2]) ├┤ H ├┤ U1(2.0*x[2]) ├┤ H ├»\n",
       "     └───┘└──────────────┘└───┘└──────────────┘└───┘└──────────────┘└───┘»\n",
       "«     ┌──────────────┐\n",
       "«q_0: ┤ U1(2.0*x[0]) ├\n",
       "«     ├──────────────┤\n",
       "«q_1: ┤ U1(2.0*x[1]) ├\n",
       "«     ├──────────────┤\n",
       "«q_2: ┤ U1(2.0*x[2]) ├\n",
       "«     └──────────────┘"
      ]
     },
     "execution_count": 13,
     "metadata": {},
     "output_type": "execute_result"
    }
   ],
   "source": [
    "feature_dim = 3     # equal to the dimension of the data\n",
    "\n",
    "Z_feature_map = ZFeatureMap(feature_dimension=feature_dim, reps=4)\n",
    "Z_feature_map.draw()"
   ]
  },
  {
   "cell_type": "markdown",
   "metadata": {},
   "source": [
    "A good point to note at this point is that the `U1Gate` is an anti-clockwise rotation around the Z axis which changes the relative phase of a qubit, i.e, the $R_Z(\\phi)$ gate. And the reason why we see a factor of `2.0` inside all the gates, i.e, such as `U1(2.0*x[0])` is because $U_{\\Phi(\\mathbf{\\theta})}=\\exp\\left(i\\phi(\\mathbf{\\theta})Z_k\\right)$ and we know that $R_P(\\theta) = e^{(-i\\frac{\\theta}{2}P)}$ where $P$ is a Pauli X, Y or Z matrix."
   ]
  },
  {
   "cell_type": "code",
   "execution_count": 14,
   "metadata": {},
   "outputs": [
    {
     "name": "stdout",
     "output_type": "stream",
     "text": [
      "parameters of the Z Feature Map are: {Parameter(x[2]), Parameter(x[1]), Parameter(x[0])}\n"
     ]
    }
   ],
   "source": [
    "print(\"parameters of the Z Feature Map are: {}\".format(Z_feature_map.parameters))"
   ]
  },
  {
   "cell_type": "markdown",
   "metadata": {},
   "source": [
    "On playing around with the `feature_dim` attribute on `ZFeatureMap` we realize that for encoding data of dimension _d_ we require _d_ qubits. And this brings us to the reason why we applied dimension reduction techniques in the classical pre-processing step. Initially the data was of dimension 784 implying that we would require 784 qubits to encode it! Post the dimensionality reduction, we only require 2 qubits. We could however increase this dimension and test our accuracies - A good project to tinker on. \n",
    "\n",
    "The parameters $x[0], x[1]$ and $x[2]$ will be binded with the values of our feature vector $\\vec{x}$ during the implementation of our algorithm and thus becomes an immutable circuit. It is important to note that though we utilize variational circuits to build the Feature Map there is no learning of parameters taking place but the substitution of our data values.  "
   ]
  },
  {
   "cell_type": "markdown",
   "metadata": {},
   "source": [
    "### ZZFeatureMap"
   ]
  },
  {
   "cell_type": "markdown",
   "metadata": {},
   "source": [
    "The `ZZFeatureMap` feature map allows $|S|\\leq 2$, so interactions in the data will be encoded in the feature map according to the connectivity graph and the classical data map. `ZZFeatureMap` with default parameters is equivalent to the feature map described in [1] and can take the additional inputs:\n",
    "\n",
    "- `entanglement`: generates connectivity `'full'` or `'linear'` or defining your own entanglement structure (default value `'full'` indicates a complete connectivity graph of $\\frac{n(n-1)}{2}$ interactions)\n",
    "\n",
    "The default setting of the data map function in `ZZFeatureMap` is given by\n",
    "\n",
    "$$\\phi_S:x\\mapsto \\Bigg\\{\\begin{array}{ll}\n",
    "    x_i & \\mbox{if}\\ S=\\{i\\} \\\\\n",
    "        (\\pi-x_i)(\\pi-x_j) & \\mbox{if}\\ S=\\{i,j\\}\n",
    "    \\end{array}$$."
   ]
  },
  {
   "cell_type": "code",
   "execution_count": 15,
   "metadata": {},
   "outputs": [
    {
     "data": {
      "text/html": [
       "<pre style=\"word-wrap: normal;white-space: pre;background: #fff0;line-height: 1.1;font-family: &quot;Courier New&quot;,Courier,monospace\">     ┌───┐┌──────────────┐     »\n",
       "q_0: ┤ H ├┤ U1(2.0*x[0]) ├──■──»\n",
       "     ├───┤├──────────────┤┌─┴─┐»\n",
       "q_1: ┤ H ├┤ U1(2.0*x[1]) ├┤ X ├»\n",
       "     └───┘└──────────────┘└───┘»\n",
       "«                                                                         ┌───┐»\n",
       "«q_0: ─────────────────────────────────────────────────────────────────■──┤ H ├»\n",
       "«     ┌─────────────────────────────────────────────────────────────┐┌─┴─┐├───┤»\n",
       "«q_1: ┤ U1(2.0*(3.14159265358979 - x[0])*(3.14159265358979 - x[1])) ├┤ X ├┤ H ├»\n",
       "«     └─────────────────────────────────────────────────────────────┘└───┘└───┘»\n",
       "«     ┌──────────────┐     »\n",
       "«q_0: ┤ U1(2.0*x[0]) ├──■──»\n",
       "«     ├──────────────┤┌─┴─┐»\n",
       "«q_1: ┤ U1(2.0*x[1]) ├┤ X ├»\n",
       "«     └──────────────┘└───┘»\n",
       "«                                                                         \n",
       "«q_0: ─────────────────────────────────────────────────────────────────■──\n",
       "«     ┌─────────────────────────────────────────────────────────────┐┌─┴─┐\n",
       "«q_1: ┤ U1(2.0*(3.14159265358979 - x[0])*(3.14159265358979 - x[1])) ├┤ X ├\n",
       "«     └─────────────────────────────────────────────────────────────┘└───┘</pre>"
      ],
      "text/plain": [
       "     ┌───┐┌──────────────┐     »\n",
       "q_0: ┤ H ├┤ U1(2.0*x[0]) ├──■──»\n",
       "     ├───┤├──────────────┤┌─┴─┐»\n",
       "q_1: ┤ H ├┤ U1(2.0*x[1]) ├┤ X ├»\n",
       "     └───┘└──────────────┘└───┘»\n",
       "«                                                                         ┌───┐»\n",
       "«q_0: ─────────────────────────────────────────────────────────────────■──┤ H ├»\n",
       "«     ┌─────────────────────────────────────────────────────────────┐┌─┴─┐├───┤»\n",
       "«q_1: ┤ U1(2.0*(3.14159265358979 - x[0])*(3.14159265358979 - x[1])) ├┤ X ├┤ H ├»\n",
       "«     └─────────────────────────────────────────────────────────────┘└───┘└───┘»\n",
       "«     ┌──────────────┐     »\n",
       "«q_0: ┤ U1(2.0*x[0]) ├──■──»\n",
       "«     ├──────────────┤┌─┴─┐»\n",
       "«q_1: ┤ U1(2.0*x[1]) ├┤ X ├»\n",
       "«     └──────────────┘└───┘»\n",
       "«                                                                         \n",
       "«q_0: ─────────────────────────────────────────────────────────────────■──\n",
       "«     ┌─────────────────────────────────────────────────────────────┐┌─┴─┐\n",
       "«q_1: ┤ U1(2.0*(3.14159265358979 - x[0])*(3.14159265358979 - x[1])) ├┤ X ├\n",
       "«     └─────────────────────────────────────────────────────────────┘└───┘"
      ]
     },
     "execution_count": 15,
     "metadata": {},
     "output_type": "execute_result"
    }
   ],
   "source": [
    "feature_dim = 2\n",
    "\n",
    "ZZ_feature_map = ZZFeatureMap(feature_dimension=feature_dim, reps=2, insert_barriers=True)\n",
    "ZZ_feature_map.draw()"
   ]
  },
  {
   "cell_type": "code",
   "execution_count": 16,
   "metadata": {},
   "outputs": [
    {
     "name": "stdout",
     "output_type": "stream",
     "text": [
      "parameters of the Z Feature Map are: {Parameter(x[0]), Parameter(x[1])}\n"
     ]
    }
   ],
   "source": [
    "print(\"parameters of the Z Feature Map are: {}\".format(ZZ_feature_map.parameters))"
   ]
  },
  {
   "cell_type": "markdown",
   "metadata": {},
   "source": [
    "### PauliFeatureMap"
   ]
  },
  {
   "cell_type": "markdown",
   "metadata": {},
   "source": [
    "For some applications, we may want to consider a more general form of the feature map. One way to generalize is to use `PauliFeatureMap` and specify a set of Pauli gates instead of using the default $Z$ gates. This feature map has the same parameters as `ZFeatureMap` and `ZZFeatureMap` such as `reps` and `data_map_func` along with an additional `paulis` parameter to change the gate set. This parameter is a list of strings, each representing the desired Pauli gate(s). The default value is `['Z', 'ZZ']`, which is equivalent to `ZZFeatureMap`.\n",
    "\n",
    "\n",
    "Each string in `paulis` is implemented one at a time for each layer in the depth $d$ feature map circuit. A single character, for example `'Z'`, adds one layer of the corresponding single-qubit gates, while terms such as `'ZZ'` or `'XY'` add a layer of corresponding two-qubit entangling gates for each qubit pair available based on `entanglement`.\n",
    "\n",
    "For example, the choice `paulis = ['Z', 'Y', 'ZZ']` generates a quantum feature map of the form \n",
    "\n",
    "$$\\mathcal{U}_{\\Phi(\\mathbf{x})} = \\left( \\exp\\left(i\\sum_{jk} \\phi_{\\{j,k\\}}(\\mathbf{x}) \\, Z_j \\otimes Z_k\\right) \\, \\exp\\left(i\\sum_{j} \\phi_{\\{j\\}}(\\mathbf{x}) \\, Y_j\\right) \\, \\exp\\left(i\\sum_j \\phi_{\\{j\\}}(\\mathbf{x}) \\, Z_j\\right) \\, H^{\\otimes n} \\right)^d.$$ \n",
    "\n",
    "The depth $d=1$ version of this quantum circuit is shown in the figure below for $n=2$ qubits.\n",
    "\n",
    "\n",
    "<img src=\"./images/depth1.PNG\" width=\"400\"/>\n",
    "\n",
    "\n",
    "The circuit begins with a layer of Hadamard gates $H^{\\otimes n}$ followed by a layer of single-qubit $A = e^{i\\phi_{\\{j\\}}(\\mathbf{x})Z_j}$ gates and a layer of $B = e^{i\\phi_{\\{j\\}}(\\mathbf{x}) \\, Y_j}$ gates. The $A$ and $B$ gates are parametrized by the same set of angles $\\phi_{\\{j\\}}(\\mathbf{x})$ but around different axes. The diagonal entangling gate $e^{i \\phi_{\\{0,1\\}}(\\mathbf{x}) \\, Z_0 \\otimes Z_1}$ is parametrized by an angle $\\phi_{\\{0,1\\}}(\\mathbf{x})$ and can be implemented using two controlled-NOT gates and one $A'=e^{i\\phi_{\\{0,1\\}}(x)\\, Z_1}$ gate as shown in the figure.\n",
    "\n",
    "As a comparison, `paulis = ['Z', 'ZZ']` creates the same circuit as above but without the $B$ gates, while `paulis = ['Z', 'YY']` creates a circuit with a layer of $A$ gates followed by a layer of entangling gates $e^{i \\phi_{\\{0,1\\}}(\\mathbf{x}) \\, Y_0 \\otimes Y_1}$.\n",
    "\n",
    "Below, we test the `PauliFeatureMap` with `paulis=['Z', 'Y', 'ZZ']`."
   ]
  },
  {
   "cell_type": "code",
   "execution_count": 17,
   "metadata": {},
   "outputs": [
    {
     "data": {
      "text/html": [
       "<pre style=\"word-wrap: normal;white-space: pre;background: #fff0;line-height: 1.1;font-family: &quot;Courier New&quot;,Courier,monospace\">     ┌───┐┌──────────────┐┌───┐┌──────────────┐┌───┐┌──────────┐     »\n",
       "q_0: ┤ H ├┤ U1(2.0*x[0]) ├┤ H ├┤ U1(2.0*x[0]) ├┤ H ├┤ RX(pi/2) ├──■──»\n",
       "     ├───┤├──────────────┤├───┤├──────────────┤├───┤└──────────┘┌─┴─┐»\n",
       "q_1: ┤ H ├┤ U1(2.0*x[1]) ├┤ H ├┤ U1(2.0*x[1]) ├┤ H ├────────────┤ X ├»\n",
       "     └───┘└──────────────┘└───┘└──────────────┘└───┘            └───┘»\n",
       "«                                                                         »\n",
       "«q_0: ─────────────────────────────────────────────────────────────────■──»\n",
       "«     ┌─────────────────────────────────────────────────────────────┐┌─┴─┐»\n",
       "«q_1: ┤ U1(2.0*(3.14159265358979 - x[0])*(3.14159265358979 - x[1])) ├┤ X ├»\n",
       "«     └─────────────────────────────────────────────────────────────┘└───┘»\n",
       "«     ┌───────────┐\n",
       "«q_0: ┤ RX(-pi/2) ├\n",
       "«     └───────────┘\n",
       "«q_1: ─────────────\n",
       "«                  </pre>"
      ],
      "text/plain": [
       "     ┌───┐┌──────────────┐┌───┐┌──────────────┐┌───┐┌──────────┐     »\n",
       "q_0: ┤ H ├┤ U1(2.0*x[0]) ├┤ H ├┤ U1(2.0*x[0]) ├┤ H ├┤ RX(pi/2) ├──■──»\n",
       "     ├───┤├──────────────┤├───┤├──────────────┤├───┤└──────────┘┌─┴─┐»\n",
       "q_1: ┤ H ├┤ U1(2.0*x[1]) ├┤ H ├┤ U1(2.0*x[1]) ├┤ H ├────────────┤ X ├»\n",
       "     └───┘└──────────────┘└───┘└──────────────┘└───┘            └───┘»\n",
       "«                                                                         »\n",
       "«q_0: ─────────────────────────────────────────────────────────────────■──»\n",
       "«     ┌─────────────────────────────────────────────────────────────┐┌─┴─┐»\n",
       "«q_1: ┤ U1(2.0*(3.14159265358979 - x[0])*(3.14159265358979 - x[1])) ├┤ X ├»\n",
       "«     └─────────────────────────────────────────────────────────────┘└───┘»\n",
       "«     ┌───────────┐\n",
       "«q_0: ┤ RX(-pi/2) ├\n",
       "«     └───────────┘\n",
       "«q_1: ─────────────\n",
       "«                  "
      ]
     },
     "execution_count": 17,
     "metadata": {},
     "output_type": "execute_result"
    }
   ],
   "source": [
    "feature_dim = 2\n",
    "\n",
    "pauli_feature_map = PauliFeatureMap(feature_dimension=feature_dim, reps=1, paulis = ['Z','X','ZY'])\n",
    "pauli_feature_map.draw()"
   ]
  },
  {
   "cell_type": "markdown",
   "metadata": {},
   "source": [
    "These are the feature maps present in Qiskit and are the ones mentioned in the paper [[1]](https://arxiv.org/abs/1804.11326) as well. It is important to note that the feature maps used in the paper were designed with the aim for them to be hard to simulate on a classical computer and are not known to have a [kernel function](https://en.wikipedia.org/wiki/Kernel_method) for the dot product which can be efficiently computed classically. \n",
    "\n",
    "The dataset used in the paper was tailor-made to get a high classification accuracy with the quantum feature maps used. However, these feature maps may not perform well with other datasets. For a particular dataset, finding a quantum feature map that can spread the datapoints in Hilbert space in such a way that a hyperplane can be drawn to classify them is important to gain higher accuracies for our model. \n",
    "\n",
    "Further, it is important for the corresponding quantum feature map circuit to be shallow (i.e, have a small circuit depth) as decoherence will come into play and decrease our accuracies. Similarily having more 2-qubit gates will increase the error in the circuit thus leading to further decrease in accuracy. To understand more about errors in real quantum computers you can look at [this section](https://qiskit.org/textbook/ch-quantum-hardware/index-circuits.html) of the Qiskit textbook. This will not be required for the challenge going forward as we will only use local simulators. Creating such short depth feature maps for real-world datasets is an open problem and an active field of research in Quantum Machine Learning.\n",
    "\n",
    "As being able to construct tailor-made feature maps is important for increasing the accuracy we will look at a method to create your very own variational circuits in the following section. This can be used to create custom feature maps as well. "
   ]
  },
  {
   "cell_type": "markdown",
   "metadata": {},
   "source": [
    "### 2.2 Building the Circuit that Classifies <a id=\"var-forms\"></a>"
   ]
  },
  {
   "cell_type": "markdown",
   "metadata": {},
   "source": [
    "In this step we append a short depth [Variational Circuit](https://qiskit.org/documentation/tutorials/circuits_advanced/1_advanced_circuits.html) to the previously constructed feature map. The parameters of this variational circuit are then trained in the [classical optimization loop](#classical-optimization) until it classifies the datapoints correctly. This is the learning stage of the algorithm and accuracy of the model can vary based on the variational circuit one chooses. It is essential to choose a variational circuit of shorter depth (making it especially viable for implementations on real hardware), lesser number of parameters to train (faster training process) while making sure its [_Expressability and Entangling capacity_](https://arxiv.org/pdf/1905.10876.pdf) are enough to classify our dataset to the degree we want. Building variational circuits with such conflicting properties, similar to the study on quantum feature maps, is an active field of research.\n",
    "\n",
    "Coming to the implementation details, In Terra one can build variational circuits using multiple classes such as the `NLocal`, `RealAmplitudes` or the `FunctionalPauliRotations` class from the Terra circuit library. More variational forms can be found in the [documentation](https://qiskit.org/documentation/apidoc/circuit_library.html), [codebase](https://github.com/Qiskit/qiskit-terra/tree/master/qiskit/circuit/library)."
   ]
  },
  {
   "cell_type": "markdown",
   "metadata": {},
   "source": [
    "**Constructing using [`Real Amplitudes`](https://qiskit.org/documentation/stubs/qiskit.circuit.library.RealAmplitudes.html):**"
   ]
  },
  {
   "cell_type": "markdown",
   "metadata": {},
   "source": [
    "Let us create a variational circuit using the inbuilt `Real Amplitudes` method. Do check out the [documentation page](https://qiskit.org/documentation/stubs/qiskit.circuit.library.RealAmplitudes.html) to understand more about its working."
   ]
  },
  {
   "cell_type": "code",
   "execution_count": 18,
   "metadata": {},
   "outputs": [
    {
     "data": {
      "text/html": [
       "<pre style=\"word-wrap: normal;white-space: pre;background: #fff0;line-height: 1.1;font-family: &quot;Courier New&quot;,Courier,monospace\">     ┌──────────┐     ┌──────────┐     ┌──────────┐     ┌──────────┐\n",
       "q_0: ┤ RY(θ[0]) ├──■──┤ RY(θ[2]) ├──■──┤ RY(θ[4]) ├──■──┤ RY(θ[6]) ├\n",
       "     ├──────────┤┌─┴─┐├──────────┤┌─┴─┐├──────────┤┌─┴─┐├──────────┤\n",
       "q_1: ┤ RY(θ[1]) ├┤ X ├┤ RY(θ[3]) ├┤ X ├┤ RY(θ[5]) ├┤ X ├┤ RY(θ[7]) ├\n",
       "     └──────────┘└───┘└──────────┘└───┘└──────────┘└───┘└──────────┘</pre>"
      ],
      "text/plain": [
       "     ┌──────────┐     ┌──────────┐     ┌──────────┐     ┌──────────┐\n",
       "q_0: ┤ RY(θ[0]) ├──■──┤ RY(θ[2]) ├──■──┤ RY(θ[4]) ├──■──┤ RY(θ[6]) ├\n",
       "     ├──────────┤┌─┴─┐├──────────┤┌─┴─┐├──────────┤┌─┴─┐├──────────┤\n",
       "q_1: ┤ RY(θ[1]) ├┤ X ├┤ RY(θ[3]) ├┤ X ├┤ RY(θ[5]) ├┤ X ├┤ RY(θ[7]) ├\n",
       "     └──────────┘└───┘└──────────┘└───┘└──────────┘└───┘└──────────┘"
      ]
     },
     "execution_count": 18,
     "metadata": {},
     "output_type": "execute_result"
    }
   ],
   "source": [
    "from qiskit.circuit.library import RealAmplitudes\n",
    "\n",
    "num_qubits = 2\n",
    "\n",
    "classifier_circ = RealAmplitudes(num_qubits, entanglement='full', reps=3)\n",
    "classifier_circ.draw()"
   ]
  },
  {
   "cell_type": "markdown",
   "metadata": {},
   "source": [
    "**Constructing a Custom Variational Circuit/Feature Map:** "
   ]
  },
  {
   "cell_type": "markdown",
   "metadata": {},
   "source": [
    "Up until this point we have learnt how to create feature maps and variational circuits using inbuilt methods in Qiskit. Now, let's create a custom variational circuit which can be used either in the place of a `FeatureMap` or as a `VariationalCircuit`. \n",
    "\n",
    "Creating a custom variational circuit is simple. While creating a `QuantumCircuit`, in the place where you would normally insert an angle you now have to insert a [`Parameter`](https://qiskit.org/documentation/stubs/qiskit.circuit.Parameter.html) object and this transforms our circuit into a variational circuit. For the sake of convenience we could use [`ParameterVector`](https://qiskit.org/documentation/stubs/qiskit.circuit.ParameterVector.html) to create a list of Pararmeters. Here's an example:"
   ]
  },
  {
   "cell_type": "code",
   "execution_count": 19,
   "metadata": {},
   "outputs": [
    {
     "data": {
      "text/html": [
       "<pre style=\"word-wrap: normal;white-space: pre;background: #fff0;line-height: 1.1;font-family: &quot;Courier New&quot;,Courier,monospace\">     ┌──────────┐                                                           »\n",
       "q_0: ┤ RX(x[0]) ├──■─────────────────────■────■─────────────────────■───────»\n",
       "     ├──────────┤┌─┴─┐┌───────────────┐┌─┴─┐  │                     │       »\n",
       "q_1: ┤ RX(x[1]) ├┤ X ├┤ U1(x[0]*x[1]) ├┤ X ├──┼─────────────────────┼────■──»\n",
       "     ├──────────┤└───┘└───────────────┘└───┘┌─┴─┐┌───────────────┐┌─┴─┐┌─┴─┐»\n",
       "q_2: ┤ RX(x[2]) ├───────────────────────────┤ X ├┤ U1(x[0]*x[2]) ├┤ X ├┤ X ├»\n",
       "     └──────────┘                           └───┘└───────────────┘└───┘└───┘»\n",
       "«                           \n",
       "«q_0: ──────────────────────\n",
       "«                           \n",
       "«q_1: ───────────────────■──\n",
       "«     ┌───────────────┐┌─┴─┐\n",
       "«q_2: ┤ U1(x[1]*x[2]) ├┤ X ├\n",
       "«     └───────────────┘└───┘</pre>"
      ],
      "text/plain": [
       "     ┌──────────┐                                                           »\n",
       "q_0: ┤ RX(x[0]) ├──■─────────────────────■────■─────────────────────■───────»\n",
       "     ├──────────┤┌─┴─┐┌───────────────┐┌─┴─┐  │                     │       »\n",
       "q_1: ┤ RX(x[1]) ├┤ X ├┤ U1(x[0]*x[1]) ├┤ X ├──┼─────────────────────┼────■──»\n",
       "     ├──────────┤└───┘└───────────────┘└───┘┌─┴─┐┌───────────────┐┌─┴─┐┌─┴─┐»\n",
       "q_2: ┤ RX(x[2]) ├───────────────────────────┤ X ├┤ U1(x[0]*x[2]) ├┤ X ├┤ X ├»\n",
       "     └──────────┘                           └───┘└───────────────┘└───┘└───┘»\n",
       "«                           \n",
       "«q_0: ──────────────────────\n",
       "«                           \n",
       "«q_1: ───────────────────■──\n",
       "«     ┌───────────────┐┌─┴─┐\n",
       "«q_2: ┤ U1(x[1]*x[2]) ├┤ X ├\n",
       "«     └───────────────┘└───┘"
      ]
     },
     "execution_count": 19,
     "metadata": {},
     "output_type": "execute_result"
    }
   ],
   "source": [
    "from qiskit.circuit import QuantumCircuit, ParameterVector\n",
    "\n",
    "num_qubits = 3            \n",
    "reps = 1              # number of times you'd want to repeat the circuit\n",
    "\n",
    "x = ParameterVector('x', length=num_qubits)  # creating a list of Parameters\n",
    "custom_circ = QuantumCircuit(num_qubits)\n",
    "\n",
    "# defining our parametric form\n",
    "for _ in range(reps):\n",
    "    for i in range(num_qubits):\n",
    "        custom_circ.rx(x[i], i)\n",
    "    for i in range(num_qubits):\n",
    "        for j in range(i + 1, num_qubits):\n",
    "            custom_circ.cx(i, j)\n",
    "            custom_circ.u1(x[i] * x[j], j)\n",
    "            custom_circ.cx(i, j)\n",
    "            \n",
    "custom_circ.draw()"
   ]
  },
  {
   "cell_type": "markdown",
   "metadata": {},
   "source": [
    "During the challenge phase, creating a custom feature map will become crucial in improving the accuracy of your model as it gives the freedom to create an effective feature map and variational circuit tailor made for your dataset. However, as we discussed earlier, the idea of \"how\" to create an effective feature map and variational circuit for a particular dataset are active fields of research and there is no concrete answer to it yet."
   ]
  },
  {
   "cell_type": "markdown",
   "metadata": {},
   "source": [
    "### 2.3 Measurement and Assigning a Binary Label <a id=\"validate\"></a> "
   ]
  },
  {
   "cell_type": "markdown",
   "metadata": {},
   "source": [
    "After creating and measuring the circuit we are left with an _n_ bit classical string from which we must derive a binary output which will be our classification result. This is done with the help of a boolean function $f: \\{0, 1\\}^{n} -> \\{0, 1\\}$. The way this boolean function is written out may not be as significant as the concepts earlier as modifying the boolean function will change the values of the parameters learned to accommodate for the change. Common examples of boolean functions are:\n",
    "\n",
    "* **Parity function** : modulus 2 sum of all the digits of the _n_ bit classical string. \n",
    "* **Choosing the \"k\"th digit** : Choose the digit number \"k\" in the _n_ bit classical string as the output, etc.\n",
    "\n",
    "This functionality is already inbuilt in the `VQC` method in Qiskit Aqua and you won't have to make any changes to it."
   ]
  },
  {
   "cell_type": "markdown",
   "metadata": {},
   "source": [
    "### 2.4 Classical optimization loop <a id=\"classical-optimization\"></a> "
   ]
  },
  {
   "cell_type": "markdown",
   "metadata": {},
   "source": [
    "Once we get our predictions a classical optimization routine changes the values of our variational circuit and repeats the whole process again. This is the classical loop that trains our parameters until the cost function value decreases. The details of the working have been ommitted as they are immutable and are not relevant going forward. However, you can look at the [code](https://github.com/Qiskit/qiskit-aqua/blob/master/qiskit/aqua/algorithms/classifiers/vqc.py) and the [optimization step](https://github.com/Qiskit/qiskit-aqua/blob/f5efe642f6374da45b96c5a73a9a01121f95081e/qiskit/aqua/algorithms/classifiers/vqc.py#L661) to understand exactly how this step takes place. \n",
    "\n",
    "Though there's isn't an available option to change the cost function during the optimization of VQC, Aqua provides you with a plethora of Optimization methods you could use during the training stage of the process. Here are a few for your reference:\n",
    "\n",
    "**Commonly used optimization methods in Aqua:**\n",
    "\n",
    "* COBYLA - Constrained Optimization By Linear Approximation optimizer.\n",
    "* SPSA - Simultaneous Perturbation Stochastic Approximation (SPSA) optimizer.\n",
    "* SLSQP - Sequential Least SQuares Programming optimizer, etc.\n",
    "\n",
    "The complete list can be found in the [documentation](https://qiskit.org/documentation/apidoc/qiskit.aqua.components.optimizers.html). "
   ]
  },
  {
   "cell_type": "markdown",
   "metadata": {},
   "source": [
    "## 3 Classifying Digits 0 and 1 <a id=\"full\"></a>"
   ]
  },
  {
   "cell_type": "markdown",
   "metadata": {},
   "source": [
    "Lets apply what we've learned using the **VQC method in Aqua** to solve our classifcation task of classifying digits `0` and `1`. Using 10,000 points for training using a simulator will take ages, hence we will take a very small subset of **20 training datapoints** and **10 testing datapoints**. We also keep 5 points per label as a validation set to see exactly how our model is classifying the given inputs. "
   ]
  },
  {
   "cell_type": "code",
   "execution_count": 20,
   "metadata": {},
   "outputs": [],
   "source": [
    "train_size = 20\n",
    "test_size = 10\n",
    "dp_size_zero = 5\n",
    "dp_size_one = 5\n",
    "\n",
    "zero_train = zero_datapoints_normalized[:train_size]\n",
    "one_train = one_datapoints_normalized[:train_size]\n",
    "\n",
    "zero_test = zero_datapoints_normalized[train_size + 1:train_size + test_size + 1]\n",
    "one_test = one_datapoints_normalized[train_size + 1:train_size + test_size + 1]\n",
    "\n",
    "training_input = {'A':zero_train, 'B':one_train}\n",
    "test_input = {'A':zero_test, 'B':one_test}\n",
    "\n",
    "# datapoints is our validation set\n",
    "datapoints = []\n",
    "dp_zero = zero_datapoints_normalized[train_size + test_size + 2:train_size + test_size + 2 + dp_size_zero]\n",
    "dp_one = one_datapoints_normalized[train_size + test_size + 2:train_size + test_size + 2 + dp_size_one]\n",
    "datapoints.append(np.concatenate((dp_zero, dp_one)))\n",
    "dp_y = np.array([0, 0, 0, 0, 0, 1, 1, 1, 1, 1])\n",
    "datapoints.append(dp_y)\n",
    "\n",
    "class_to_label = {'A': 0, 'B': 1}"
   ]
  },
  {
   "cell_type": "markdown",
   "metadata": {},
   "source": [
    "**Instantiate the Feature map to use:**"
   ]
  },
  {
   "cell_type": "code",
   "execution_count": 21,
   "metadata": {},
   "outputs": [
    {
     "data": {
      "text/html": [
       "<pre style=\"word-wrap: normal;white-space: pre;background: #fff0;line-height: 1.1;font-family: &quot;Courier New&quot;,Courier,monospace\">     ┌───┐┌──────────────┐     »\n",
       "q_0: ┤ H ├┤ U1(2.0*x[0]) ├──■──»\n",
       "     ├───┤├──────────────┤┌─┴─┐»\n",
       "q_1: ┤ H ├┤ U1(2.0*x[1]) ├┤ X ├»\n",
       "     └───┘└──────────────┘└───┘»\n",
       "«                                                                         ┌───┐»\n",
       "«q_0: ─────────────────────────────────────────────────────────────────■──┤ H ├»\n",
       "«     ┌─────────────────────────────────────────────────────────────┐┌─┴─┐├───┤»\n",
       "«q_1: ┤ U1(2.0*(3.14159265358979 - x[0])*(3.14159265358979 - x[1])) ├┤ X ├┤ H ├»\n",
       "«     └─────────────────────────────────────────────────────────────┘└───┘└───┘»\n",
       "«     ┌──────────────┐     »\n",
       "«q_0: ┤ U1(2.0*x[0]) ├──■──»\n",
       "«     ├──────────────┤┌─┴─┐»\n",
       "«q_1: ┤ U1(2.0*x[1]) ├┤ X ├»\n",
       "«     └──────────────┘└───┘»\n",
       "«                                                                         \n",
       "«q_0: ─────────────────────────────────────────────────────────────────■──\n",
       "«     ┌─────────────────────────────────────────────────────────────┐┌─┴─┐\n",
       "«q_1: ┤ U1(2.0*(3.14159265358979 - x[0])*(3.14159265358979 - x[1])) ├┤ X ├\n",
       "«     └─────────────────────────────────────────────────────────────┘└───┘</pre>"
      ],
      "text/plain": [
       "     ┌───┐┌──────────────┐     »\n",
       "q_0: ┤ H ├┤ U1(2.0*x[0]) ├──■──»\n",
       "     ├───┤├──────────────┤┌─┴─┐»\n",
       "q_1: ┤ H ├┤ U1(2.0*x[1]) ├┤ X ├»\n",
       "     └───┘└──────────────┘└───┘»\n",
       "«                                                                         ┌───┐»\n",
       "«q_0: ─────────────────────────────────────────────────────────────────■──┤ H ├»\n",
       "«     ┌─────────────────────────────────────────────────────────────┐┌─┴─┐├───┤»\n",
       "«q_1: ┤ U1(2.0*(3.14159265358979 - x[0])*(3.14159265358979 - x[1])) ├┤ X ├┤ H ├»\n",
       "«     └─────────────────────────────────────────────────────────────┘└───┘└───┘»\n",
       "«     ┌──────────────┐     »\n",
       "«q_0: ┤ U1(2.0*x[0]) ├──■──»\n",
       "«     ├──────────────┤┌─┴─┐»\n",
       "«q_1: ┤ U1(2.0*x[1]) ├┤ X ├»\n",
       "«     └──────────────┘└───┘»\n",
       "«                                                                         \n",
       "«q_0: ─────────────────────────────────────────────────────────────────■──\n",
       "«     ┌─────────────────────────────────────────────────────────────┐┌─┴─┐\n",
       "«q_1: ┤ U1(2.0*(3.14159265358979 - x[0])*(3.14159265358979 - x[1])) ├┤ X ├\n",
       "«     └─────────────────────────────────────────────────────────────┘└───┘"
      ]
     },
     "execution_count": 21,
     "metadata": {},
     "output_type": "execute_result"
    }
   ],
   "source": [
    "seed = 10598\n",
    "feature_dim = zero_train.shape[1]\n",
    "\n",
    "feature_map = ZZFeatureMap(feature_dimension=feature_dim, reps=2, entanglement='linear')\n",
    "feature_map.draw()"
   ]
  },
  {
   "cell_type": "markdown",
   "metadata": {},
   "source": [
    "**Instantiate the Classical Optimizer to use:**"
   ]
  },
  {
   "cell_type": "code",
   "execution_count": 34,
   "metadata": {},
   "outputs": [],
   "source": [
    "from qiskit.aqua.components.optimizers import COBYLA\n",
    "\n",
    "cobyla = COBYLA(maxiter=500, tol=0.1)"
   ]
  },
  {
   "cell_type": "markdown",
   "metadata": {},
   "source": [
    "**Instantiate the variational Circuit to use:**"
   ]
  },
  {
   "cell_type": "code",
   "execution_count": 40,
   "metadata": {},
   "outputs": [
    {
     "data": {
      "text/html": [
       "<pre style=\"word-wrap: normal;white-space: pre;background: #fff0;line-height: 1.1;font-family: &quot;Courier New&quot;,Courier,monospace\">     ┌──────────┐     ┌──────────┐     ┌──────────┐\n",
       "q_0: ┤ RY(θ[0]) ├──■──┤ RY(θ[2]) ├──■──┤ RY(θ[4]) ├\n",
       "     ├──────────┤┌─┴─┐├──────────┤┌─┴─┐├──────────┤\n",
       "q_1: ┤ RY(θ[1]) ├┤ X ├┤ RY(θ[3]) ├┤ X ├┤ RY(θ[5]) ├\n",
       "     └──────────┘└───┘└──────────┘└───┘└──────────┘</pre>"
      ],
      "text/plain": [
       "     ┌──────────┐     ┌──────────┐     ┌──────────┐\n",
       "q_0: ┤ RY(θ[0]) ├──■──┤ RY(θ[2]) ├──■──┤ RY(θ[4]) ├\n",
       "     ├──────────┤┌─┴─┐├──────────┤┌─┴─┐├──────────┤\n",
       "q_1: ┤ RY(θ[1]) ├┤ X ├┤ RY(θ[3]) ├┤ X ├┤ RY(θ[5]) ├\n",
       "     └──────────┘└───┘└──────────┘└───┘└──────────┘"
      ]
     },
     "execution_count": 40,
     "metadata": {},
     "output_type": "execute_result"
    }
   ],
   "source": [
    "from qiskit.circuit.library import EfficientSU2, RealAmplitudes\n",
    "\n",
    "var = RealAmplitudes(feature_dim, reps=2)\n",
    "var.draw()"
   ]
  },
  {
   "cell_type": "markdown",
   "metadata": {},
   "source": [
    "Constructing a callback function to get the parameter values after each iteration. This step is optional but highly recommended to see if the algorithm is working and is optimizing your parameters as you'd expect it to. "
   ]
  },
  {
   "cell_type": "code",
   "execution_count": 41,
   "metadata": {},
   "outputs": [],
   "source": [
    "def call_back_vqc(eval_count, var_params, eval_val, index):\n",
    "    print(\"eval_count: {}\".format(eval_count))\n",
    "    print(\"var_params: {}\".format(var_params))\n",
    "    print(\"eval_val: {}\".format(eval_val))\n",
    "    print(\"index: {}\".format(index))"
   ]
  },
  {
   "cell_type": "markdown",
   "metadata": {},
   "source": [
    "**Bringing everything together**"
   ]
  },
  {
   "cell_type": "code",
   "execution_count": 42,
   "metadata": {},
   "outputs": [],
   "source": [
    "# initilizing our backend\n",
    "backend = BasicAer.get_backend('qasm_simulator')\n",
    "backend_options = {\"method\": \"statevector\"}\n",
    "\n",
    "# creating a quantum instance\n",
    "quantum_instance = QuantumInstance(backend, shots=1024, seed_simulator=seed, seed_transpiler=seed, backend_options=backend_options)\n",
    "\n",
    "#initilizing our VQC object\n",
    "vqc = VQC(optimizer=cobyla, feature_map=feature_map, var_form=var, callback=call_back_vqc, training_dataset=training_input, \n",
    "         test_dataset=test_input, datapoints=datapoints[0])"
   ]
  },
  {
   "cell_type": "code",
   "execution_count": 43,
   "metadata": {},
   "outputs": [
    {
     "name": "stdout",
     "output_type": "stream",
     "text": [
      "eval_count: 0\n",
      "var_params: [ 0.52658577  1.66033877 -0.36380906 -0.03104519 -0.36362241  1.24180163]\n",
      "eval_val: 0.9365368169424091\n",
      "index: 0\n",
      "eval_count: 1\n",
      "var_params: [ 1.52658577  1.66033877 -0.36380906 -0.03104519 -0.36362241  1.24180163]\n",
      "eval_val: 1.195809379961325\n",
      "index: 1\n",
      "eval_count: 2\n",
      "var_params: [ 0.52658577  2.66033877 -0.36380906 -0.03104519 -0.36362241  1.24180163]\n",
      "eval_val: 0.9692058398617039\n",
      "index: 2\n",
      "eval_count: 3\n",
      "var_params: [ 0.52658577  1.66033877  0.63619094 -0.03104519 -0.36362241  1.24180163]\n",
      "eval_val: 1.1461386275046608\n",
      "index: 3\n",
      "eval_count: 4\n",
      "var_params: [ 0.52658577  1.66033877 -0.36380906  0.96895481 -0.36362241  1.24180163]\n",
      "eval_val: 0.857666468069042\n",
      "index: 4\n",
      "eval_count: 5\n",
      "var_params: [ 0.52658577  1.66033877 -0.36380906  0.96895481  0.63637759  1.24180163]\n",
      "eval_val: 1.2505250562274235\n",
      "index: 5\n",
      "eval_count: 6\n",
      "var_params: [ 0.52658577  1.66033877 -0.36380906  0.96895481 -0.36362241  2.24180163]\n",
      "eval_val: 1.4481169712294064\n",
      "index: 6\n",
      "eval_count: 7\n",
      "var_params: [ 0.19768377  1.61889625 -0.62970088  1.06900634 -0.86198589  0.49278157]\n",
      "eval_val: 0.36137238922275644\n",
      "index: 7\n",
      "eval_count: 8\n",
      "var_params: [ 0.84280573  1.58536535 -0.84483245  1.14995746 -1.26520896 -0.11324633]\n",
      "eval_val: 0.35855488390087437\n",
      "index: 8\n",
      "eval_count: 9\n",
      "var_params: [ 0.84280573  1.58536535 -1.31602441  1.14995746 -1.26520896  0.05402034]\n",
      "eval_val: 0.34903320776883084\n",
      "index: 9\n",
      "eval_count: 10\n",
      "var_params: [ 0.14016652  1.53290653 -1.4444257   1.27660482 -1.89604811 -0.21627899]\n",
      "eval_val: 0.555316022565725\n",
      "index: 10\n",
      "eval_count: 11\n",
      "var_params: [ 0.84280573  1.08708522 -1.31602441  1.14995746 -1.22377337  0.05402034]\n",
      "eval_val: 0.34843333079911465\n",
      "index: 11\n",
      "eval_count: 12\n",
      "var_params: [ 0.62889385  1.14588299 -1.5465021   1.18851405 -0.50962832 -0.5674093 ]\n",
      "eval_val: 0.5012888878387145\n",
      "index: 12\n",
      "eval_count: 13\n",
      "var_params: [ 0.86902599  1.09038904 -1.29482736  1.64362561 -1.18404353  0.11373267]\n",
      "eval_val: 0.33311714933853454\n",
      "index: 13\n",
      "eval_count: 14\n",
      "var_params: [ 1.60005105  1.09122106 -1.13444908  1.62649539 -1.12108056  0.77374986]\n",
      "eval_val: 0.38864851614652335\n",
      "index: 14\n",
      "eval_count: 15\n",
      "var_params: [ 0.67093303  1.05151973 -1.30552049  1.74441452 -1.62103515  0.20325325]\n",
      "eval_val: 0.5586391965731041\n",
      "index: 15\n",
      "eval_count: 16\n",
      "var_params: [ 1.02929068  1.08228121 -1.34962003  1.66403688 -1.2815435  -0.04061886]\n",
      "eval_val: 0.37424987782242514\n",
      "index: 16\n",
      "eval_count: 17\n",
      "var_params: [ 0.83425408  1.12991144 -1.34130918  1.64663703 -0.69500489  0.03691817]\n",
      "eval_val: 0.26504209176744775\n",
      "index: 17\n",
      "eval_count: 18\n",
      "var_params: [ 1.16023682  1.14188928 -1.23541412  1.58811617 -0.54397529  0.36271472]\n",
      "eval_val: 0.27071425688416234\n",
      "index: 18\n",
      "eval_count: 19\n",
      "var_params: [ 0.82123168  1.12999437 -1.10021239  1.65540625 -0.6940077  -0.02730687]\n",
      "eval_val: 0.27113730178165085\n",
      "index: 19\n",
      "eval_count: 20\n",
      "var_params: [ 0.96626606  1.15586314 -1.44519844  1.50571924 -0.36327398 -0.26508043]\n",
      "eval_val: 0.3643040810947379\n",
      "index: 20\n",
      "eval_count: 21\n",
      "var_params: [ 0.65516501  1.13286113 -1.32917111  1.71262692 -0.64993011  0.19146483]\n",
      "eval_val: 0.2721841756339451\n",
      "index: 21\n",
      "eval_count: 22\n",
      "var_params: [ 0.83465151  1.00528453 -1.34134979  1.64713173 -0.68537698  0.03674124]\n",
      "eval_val: 0.26586752342081416\n",
      "index: 22\n",
      "eval_count: 23\n",
      "var_params: [ 0.91145754  1.12634493 -1.35691298  1.85757649 -0.80339475  0.04321166]\n",
      "eval_val: 0.277998182562076\n",
      "index: 23\n",
      "eval_count: 24\n",
      "var_params: [ 0.8193825   1.11866866 -1.33576364  1.50748882 -0.89057706  0.10408203]\n",
      "eval_val: 0.2714094154599429\n",
      "index: 24\n",
      "eval_count: 25\n",
      "var_params: [ 0.83711687  1.14255908 -1.38376201  1.59690991 -0.63718789 -0.01013508]\n",
      "eval_val: 0.2716293679818418\n",
      "index: 25\n",
      "eval_count: 26\n",
      "var_params: [ 0.79148139  1.12900726 -1.34919066  1.65670566 -0.70585609  0.01720939]\n",
      "eval_val: 0.26626380111476483\n",
      "index: 26\n",
      "eval_count: 27\n",
      "var_params: [ 0.797072    1.13524017 -1.33135865  1.65452578 -0.65656234  0.12028497]\n",
      "eval_val: 0.26204859092213006\n",
      "index: 27\n",
      "eval_count: 28\n",
      "var_params: [ 0.82710459  1.14090385 -1.34416238  1.7351607  -0.66962471  0.16750165]\n",
      "eval_val: 0.2636861859399818\n",
      "index: 28\n",
      "eval_count: 29\n",
      "var_params: [ 0.79691318  1.13312115 -1.36441583  1.63471398 -0.68277633  0.1382579 ]\n",
      "eval_val: 0.2611852947320058\n",
      "index: 29\n",
      "eval_count: 30\n",
      "var_params: [ 0.79103905  1.13485899 -1.30066858  1.59510401 -0.7300099   0.18407059]\n",
      "eval_val: 0.2603058249840181\n",
      "index: 30\n",
      "time taken: \n",
      "10.453125\n",
      "testing success ratio: 0.95\n"
     ]
    }
   ],
   "source": [
    "start = time.process_time()\n",
    "\n",
    "result = vqc.run(quantum_instance)\n",
    "\n",
    "print(\"time taken: \")\n",
    "print(time.process_time() - start)\n",
    "\n",
    "\n",
    "print(\"testing success ratio: {}\".format(result['testing_accuracy']))"
   ]
  },
  {
   "cell_type": "code",
   "execution_count": 45,
   "metadata": {},
   "outputs": [
    {
     "name": "stdout",
     "output_type": "stream",
     "text": [
      "prediction of datapoints:\n",
      "ground truth: ['A', 'A', 'A', 'A', 'A', 'B', 'B', 'B', 'B', 'B']\n",
      "prediction:   ['A', 'A', 'A', 'A', 'A', 'B', 'B', 'B', 'B', 'B']\n"
     ]
    }
   ],
   "source": [
    "print(\"prediction of datapoints:\")\n",
    "print(\"ground truth: {}\".format(map_label_to_class_name(datapoints[1], vqc.label_to_class)))\n",
    "print(\"prediction:   {}\".format(result['predicted_classes']))"
   ]
  },
  {
   "cell_type": "markdown",
   "metadata": {},
   "source": [
    "As you can see we seem to get a pretty good accuracy, but that is because we have used such a small training and testing set along with the fact that digits `0` and `1` are so far apart making it easy to classify them. Its your turn to play around with the options that you have and create better feature maps, variational circuit, assigning the correct optimization routine, etc. Have fun! "
   ]
  },
  {
   "cell_type": "code",
   "execution_count": null,
   "metadata": {},
   "outputs": [],
   "source": []
  }
 ],
 "metadata": {
  "kernelspec": {
   "display_name": "Python 3",
   "language": "python",
   "name": "python3"
  },
  "language_info": {
   "codemirror_mode": {
    "name": "ipython",
    "version": 3
   },
   "file_extension": ".py",
   "mimetype": "text/x-python",
   "name": "python",
   "nbconvert_exporter": "python",
   "pygments_lexer": "ipython3",
   "version": "3.7.6"
  }
 },
 "nbformat": 4,
 "nbformat_minor": 4
}
